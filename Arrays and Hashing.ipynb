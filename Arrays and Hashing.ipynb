{
 "cells": [
  {
   "cell_type": "markdown",
   "id": "6f087db0",
   "metadata": {},
   "source": [
    "# Given an integer array nums, return true if any value appears more than once in the array, otherwise return false.\n",
    "\n",
    "Example 1:\n",
    "\n",
    "Input: nums = [1, 2, 3, 3]\n",
    "\n",
    "Output: true"
   ]
  },
  {
   "cell_type": "code",
   "execution_count": 1,
   "id": "070dcf78",
   "metadata": {},
   "outputs": [],
   "source": [
    "nums = [1, 2, 3, 3]"
   ]
  },
  {
   "cell_type": "code",
   "execution_count": 3,
   "id": "8d491206",
   "metadata": {},
   "outputs": [],
   "source": [
    "def f1():\n",
    "    s=set(num)\n",
    "    if(len(s)==len(num)):\n",
    "        return True\n",
    "    else:\n",
    "        return False"
   ]
  },
  {
   "cell_type": "markdown",
   "id": "ace976d5",
   "metadata": {},
   "source": [
    "# Valid Anagram\n",
    "Given two strings s and t, return true if the two strings are anagrams of each other, otherwise return false.\n",
    "\n",
    "An anagram is a string that contains the exact same characters as another string, but the order of the characters can be different.\n",
    "\n",
    "Example 1:\n",
    "\n",
    "Input: s = \"racecar\", t = \"carrace\"\n",
    "\n",
    "Output: true\n",
    "Example 2:\n",
    "\n",
    "Input: s = \"jar\", t = \"jam\"\n",
    "\n",
    "Output: false\n",
    "Constraints:\n",
    "\n",
    "s and t consist of lowercase English letters."
   ]
  },
  {
   "cell_type": "code",
   "execution_count": null,
   "id": "4c456281",
   "metadata": {},
   "outputs": [],
   "source": [
    "def f2(s,t):\n",
    "    "
   ]
  },
  {
   "cell_type": "code",
   "execution_count": 6,
   "id": "49853fbe",
   "metadata": {},
   "outputs": [
    {
     "data": {
      "text/plain": [
       "True"
      ]
     },
     "execution_count": 6,
     "metadata": {},
     "output_type": "execute_result"
    }
   ],
   "source": [
    "set([1,2,3])==set([2,1,3])"
   ]
  },
  {
   "cell_type": "code",
   "execution_count": 10,
   "id": "987b5dcd",
   "metadata": {},
   "outputs": [
    {
     "data": {
      "text/plain": [
       "True"
      ]
     },
     "execution_count": 10,
     "metadata": {},
     "output_type": "execute_result"
    }
   ],
   "source": [
    "{1:3,2:1}=={2:1,1:3}"
   ]
  },
  {
   "cell_type": "code",
   "execution_count": 13,
   "id": "ea2cd66c",
   "metadata": {},
   "outputs": [],
   "source": [
    "x={1:3,2:1}"
   ]
  },
  {
   "cell_type": "code",
   "execution_count": 16,
   "id": "47713c46",
   "metadata": {},
   "outputs": [
    {
     "data": {
      "text/plain": [
       "False"
      ]
     },
     "execution_count": 16,
     "metadata": {},
     "output_type": "execute_result"
    }
   ],
   "source": [
    "3 in x"
   ]
  },
  {
   "cell_type": "code",
   "execution_count": 17,
   "id": "5a854e8c",
   "metadata": {},
   "outputs": [],
   "source": [
    "x=[1,2,3]\n",
    "y=[4,5,6]"
   ]
  },
  {
   "cell_type": "code",
   "execution_count": 18,
   "id": "9717d989",
   "metadata": {},
   "outputs": [
    {
     "ename": "ValueError",
     "evalue": "too many values to unpack (expected 2)",
     "output_type": "error",
     "traceback": [
      "\u001b[1;31m---------------------------------------------------------------------------\u001b[0m",
      "\u001b[1;31mValueError\u001b[0m                                Traceback (most recent call last)",
      "Cell \u001b[1;32mIn[18], line 1\u001b[0m\n\u001b[1;32m----> 1\u001b[0m \u001b[38;5;28;01mfor\u001b[39;00m i,j \u001b[38;5;129;01min\u001b[39;00m x,y:\n\u001b[0;32m      2\u001b[0m     \u001b[38;5;28mprint\u001b[39m(i)\n",
      "\u001b[1;31mValueError\u001b[0m: too many values to unpack (expected 2)"
     ]
    }
   ],
   "source": [
    "for i,j in x,y:\n",
    "    print(i)"
   ]
  },
  {
   "cell_type": "code",
   "execution_count": 19,
   "id": "1bc1aae1",
   "metadata": {},
   "outputs": [],
   "source": [
    "def isAnagram(self, s: str, t: str) -> bool:\n",
    "    if(len(s)!=len(t)):\n",
    "        return False\n",
    "    s1,t1={},{}\n",
    "    for i in s:\n",
    "        if i in s1:\n",
    "            s1[i]+=1\n",
    "        else:\n",
    "            s1[i]=0    \n",
    "    for i in t:\n",
    "        if i in t1:\n",
    "            t1[i]+=1\n",
    "        else:\n",
    "            t1[i]=0  \n",
    "    if(s1==t1):\n",
    "        return True\n",
    "\n",
    "    return False\n",
    "        "
   ]
  },
  {
   "cell_type": "markdown",
   "id": "c214e4dc",
   "metadata": {},
   "source": [
    "# Given an array of integers nums and an integer target, return the indices i and j such that nums[i] + nums[j] == target and i != j.\n",
    "\n",
    "You may assume that every input has exactly one pair of indices i and j that satisfy the condition.\n",
    "\n",
    "Return the answer with the smaller index first.\n",
    "\n",
    "Example 1:\n",
    "\n",
    "Input: \n",
    "nums = [3,4,5,6], target = 7\n",
    "\n",
    "Output: [0,1]"
   ]
  },
  {
   "cell_type": "code",
   "execution_count": null,
   "id": "2494c36a",
   "metadata": {},
   "outputs": [],
   "source": [
    "    def twoSum(self, nums: List[int], target: int) -> List[int]:\n",
    "        x={}\n",
    "        for i in range(len(nums)):\n",
    "            diff=target-nums[i]\n",
    "            if(diff in x):\n",
    "                return [x[diff],i]\n",
    "            x[nums[i]]=i  "
   ]
  }
 ],
 "metadata": {
  "kernelspec": {
   "display_name": "Python (GPU)",
   "language": "python",
   "name": "base"
  },
  "language_info": {
   "codemirror_mode": {
    "name": "ipython",
    "version": 3
   },
   "file_extension": ".py",
   "mimetype": "text/x-python",
   "name": "python",
   "nbconvert_exporter": "python",
   "pygments_lexer": "ipython3",
   "version": "3.11.5"
  }
 },
 "nbformat": 4,
 "nbformat_minor": 5
}
