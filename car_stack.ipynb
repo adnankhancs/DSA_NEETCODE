{
 "cells": [
  {
   "cell_type": "code",
   "execution_count": 44,
   "id": "07916b36",
   "metadata": {},
   "outputs": [],
   "source": [
    "import math\n"
   ]
  },
  {
   "cell_type": "code",
   "execution_count": 64,
   "id": "e143971b",
   "metadata": {},
   "outputs": [],
   "source": [
    "def abc(st):\n",
    "    for i in st[::-1]:\n",
    "        print(position[i],end=\" \")"
   ]
  },
  {
   "cell_type": "code",
   "execution_count": 27,
   "id": "9d35568f",
   "metadata": {},
   "outputs": [],
   "source": [
    "target=31\n",
    "position=[5,26,18,25,29,21,22,12,19,6]\n",
    "speed=[7,6,6,4,3,4,9,7,6,4]"
   ]
  },
  {
   "cell_type": "code",
   "execution_count": 68,
   "id": "2d7240fa",
   "metadata": {},
   "outputs": [],
   "source": [
    "target=10\n",
    "position=[4,1,0,7]\n",
    "speed=[2,2,1,1]"
   ]
  },
  {
   "cell_type": "code",
   "execution_count": 80,
   "id": "a82c5d6f",
   "metadata": {},
   "outputs": [
    {
     "data": {
      "text/plain": [
       "[4, 4, 4, 4, 4, 4]"
      ]
     },
     "execution_count": 80,
     "metadata": {},
     "output_type": "execute_result"
    }
   ],
   "source": [
    "speed"
   ]
  },
  {
   "cell_type": "code",
   "execution_count": 99,
   "id": "ec7fbf7d",
   "metadata": {},
   "outputs": [],
   "source": [
    "st=[]\n",
    "st2=[]"
   ]
  },
  {
   "cell_type": "code",
   "execution_count": 100,
   "id": "558001df",
   "metadata": {},
   "outputs": [],
   "source": [
    "for i in range(len(position)):\n",
    "    if(len(st)==0 or position[st[-1]]<=position[i]):\n",
    "        st.append(i)\n",
    "    else:    \n",
    "        while(len(st)!=0 and  position[st[-1]]>position[i]):\n",
    "            st2.append(st.pop());\n",
    "        st.append(i) \n",
    "        while(len(st2)!=0):\n",
    "            st.append(st2.pop());\n",
    "            "
   ]
  },
  {
   "cell_type": "code",
   "execution_count": 101,
   "id": "377304b3",
   "metadata": {},
   "outputs": [
    {
     "data": {
      "text/plain": [
       "[1, 3, 5, 4, 2, 0]"
      ]
     },
     "execution_count": 101,
     "metadata": {},
     "output_type": "execute_result"
    }
   ],
   "source": [
    "st"
   ]
  },
  {
   "cell_type": "code",
   "execution_count": 102,
   "id": "c69d7c5a",
   "metadata": {},
   "outputs": [
    {
     "data": {
      "text/plain": [
       "[]"
      ]
     },
     "execution_count": 102,
     "metadata": {},
     "output_type": "execute_result"
    }
   ],
   "source": [
    "st2"
   ]
  },
  {
   "cell_type": "code",
   "execution_count": 103,
   "id": "05336b1c",
   "metadata": {},
   "outputs": [
    {
     "name": "stdout",
     "output_type": "stream",
     "text": [
      "8 7 6 5 4 3 "
     ]
    }
   ],
   "source": [
    "abc(st)"
   ]
  },
  {
   "cell_type": "code",
   "execution_count": 104,
   "id": "9aa2823d",
   "metadata": {},
   "outputs": [],
   "source": [
    "target=10\n",
    "position=[8,3,7,4,6,5]\n",
    "speed=[4,4,4,4,4,4]"
   ]
  },
  {
   "cell_type": "code",
   "execution_count": 105,
   "id": "25d748fb",
   "metadata": {},
   "outputs": [
    {
     "name": "stdout",
     "output_type": "stream",
     "text": [
      "8 - 2 - 1 - --[1, 3, 5, 4, 2] - ---7 6 5 4 3 [1]\n",
      "7 - 3 - 1 - --[1, 3, 5, 4] - ---6 5 4 3 [1]\n",
      "6 - 4 - 1 - --[1, 3, 5] - ---5 4 3 [1]\n",
      "5 - 5 - 2 - --[1, 3] - ---4 3 [1, 2]\n",
      "4 - 6 - 2 - --[1] - ---3 [1, 2]\n",
      "3 - 7 - 2 - --[] - ---[1, 2]\n"
     ]
    }
   ],
   "source": [
    "while(st):\n",
    "    top=st.pop()\n",
    "    print(position[top],end=\" - \")\n",
    "    x=target-position[top]\n",
    "    print(x,end=\" - \")\n",
    "    x=math.ceil(x/speed[top])\n",
    "    print(x,end=\" - --\")\n",
    "    if(len(st2)==0):\n",
    "        st2.append(x)\n",
    "    elif(x>st2[-1]):\n",
    "        st2.append(x)\n",
    "    print(st,end=\" - ---\")    \n",
    "    abc(st)\n",
    "    print(st2)    \n",
    "    \n",
    "    "
   ]
  },
  {
   "cell_type": "code",
   "execution_count": 88,
   "id": "5e4987f3",
   "metadata": {},
   "outputs": [
    {
     "data": {
      "text/plain": [
       "[1, 2]"
      ]
     },
     "execution_count": 88,
     "metadata": {},
     "output_type": "execute_result"
    }
   ],
   "source": [
    "st2"
   ]
  },
  {
   "cell_type": "code",
   "execution_count": 106,
   "id": "664c5319",
   "metadata": {},
   "outputs": [],
   "source": [
    "pair = [(p, s) for p, s in zip(position, speed)]\n",
    "pair.sort(reverse=True)"
   ]
  },
  {
   "cell_type": "code",
   "execution_count": 107,
   "id": "159632c6",
   "metadata": {},
   "outputs": [
    {
     "data": {
      "text/plain": [
       "[(8, 4), (7, 4), (6, 4), (5, 4), (4, 4), (3, 4)]"
      ]
     },
     "execution_count": 107,
     "metadata": {},
     "output_type": "execute_result"
    }
   ],
   "source": [
    "pair"
   ]
  },
  {
   "cell_type": "code",
   "execution_count": null,
   "id": "79e1a603",
   "metadata": {},
   "outputs": [],
   "source": [
    "stack = []\n",
    "for p, s in pair:  # Reverse Sorted Order\n",
    "    stack.append((target - p) / s)\n",
    "    print\n",
    "    if len(stack) >= 2 and stack[-1] <= stack[-2]:\n",
    "        stack.pop()\n",
    "       "
   ]
  }
 ],
 "metadata": {
  "kernelspec": {
   "display_name": "Python (GPU)",
   "language": "python",
   "name": "base"
  },
  "language_info": {
   "codemirror_mode": {
    "name": "ipython",
    "version": 3
   },
   "file_extension": ".py",
   "mimetype": "text/x-python",
   "name": "python",
   "nbconvert_exporter": "python",
   "pygments_lexer": "ipython3",
   "version": "3.11.5"
  }
 },
 "nbformat": 4,
 "nbformat_minor": 5
}
